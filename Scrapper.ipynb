{
 "cells": [
  {
   "cell_type": "code",
   "execution_count": 1,
   "metadata": {},
   "outputs": [],
   "source": [
    "import csv\n",
    "from bs4 import BeautifulSoup"
   ]
  },
  {
   "cell_type": "code",
   "execution_count": 2,
   "metadata": {},
   "outputs": [],
   "source": [
    "#Microsoft Edge\n",
    "from selenium import webdriver\n",
    "from msedge.selenium_tools import Edge, EdgeOptions\n",
    "\n"
   ]
  },
  {
   "cell_type": "markdown",
   "metadata": {},
   "source": [
    "Starting the webdriver"
   ]
  },
  {
   "cell_type": "code",
   "execution_count": 3,
   "metadata": {},
   "outputs": [],
   "source": [
    "#Microsoft Edge\n",
    "edgeBrowser = webdriver.Edge(executable_path= r\"C:\\Users\\kunwa\\OneDrive\\Documents\\Kunwardeep\\Python Scripts\\WebScraping\\edgedriver_win64\\EdgeDriver.exe\")"
   ]
  },
  {
   "cell_type": "code",
   "execution_count": 4,
   "metadata": {},
   "outputs": [],
   "source": [
    "url = \"https://www.amazon.com/\"\n",
    "edgeBrowser.get(url)\n"
   ]
  },
  {
   "cell_type": "markdown",
   "metadata": {},
   "source": [
    "Creating a function to create url from search term\n"
   ]
  },
  {
   "cell_type": "code",
   "execution_count": 5,
   "metadata": {},
   "outputs": [],
   "source": [
    "def get_url(search_term):\n",
    "    template = \"https://www.amazon.com/s?k={}&crid=SZCW0NF454V2&sprefix=ultrawide+monit%2Caps%2C473&ref=nb_sb_noss_2\"\n",
    "    search_term = search_term.replace(\" \", \"+\")\n",
    "    url = template.format(search_term)\n",
    "    url += '&page{}'\n",
    "    return url"
   ]
  },
  {
   "cell_type": "code",
   "execution_count": 7,
   "metadata": {},
   "outputs": [],
   "source": [
    "edgeBrowser.get(url)"
   ]
  },
  {
   "cell_type": "markdown",
   "metadata": {},
   "source": [
    "Extract the collection"
   ]
  },
  {
   "cell_type": "code",
   "execution_count": 8,
   "metadata": {},
   "outputs": [
    {
     "data": {
      "text/plain": [
       "22"
      ]
     },
     "execution_count": 8,
     "metadata": {},
     "output_type": "execute_result"
    }
   ],
   "source": [
    "soup = BeautifulSoup(edgeBrowser.page_source, \"html.parser\")\n",
    "results = soup.find_all(\"div\", {\"data-component-type\": \"s-search-result\"})\n",
    "\n",
    "len(results)\n"
   ]
  },
  {
   "cell_type": "markdown",
   "metadata": {},
   "source": [
    "Testing the record\n"
   ]
  },
  {
   "cell_type": "code",
   "execution_count": 9,
   "metadata": {},
   "outputs": [
    {
     "ename": "TypeError",
     "evalue": "slice indices must be integers or None or have an __index__ method",
     "output_type": "error",
     "traceback": [
      "\u001b[1;31m---------------------------------------------------------------------------\u001b[0m",
      "\u001b[1;31mTypeError\u001b[0m                                 Traceback (most recent call last)",
      "\u001b[1;32mc:\\Users\\kunwa\\OneDrive\\Documents\\Kunwardeep\\Python Scripts\\WebScraping\\Grainmart\\Script_1\\Scrapper.ipynb Cell 13'\u001b[0m in \u001b[0;36m<module>\u001b[1;34m\u001b[0m\n\u001b[0;32m      <a href='vscode-notebook-cell:/c%3A/Users/kunwa/OneDrive/Documents/Kunwardeep/Python%20Scripts/WebScraping/Grainmart/Script_1/Scrapper.ipynb#ch0000012?line=3'>4</a>\u001b[0m url \u001b[39m=\u001b[39m \u001b[39m\"\u001b[39m\u001b[39mhttps://www.amazon.com/\u001b[39m\u001b[39m\"\u001b[39m \u001b[39m+\u001b[39m atag\u001b[39m.\u001b[39mget(\u001b[39m\"\u001b[39m\u001b[39mhref\u001b[39m\u001b[39m\"\u001b[39m)\n\u001b[0;32m      <a href='vscode-notebook-cell:/c%3A/Users/kunwa/OneDrive/Documents/Kunwardeep/Python%20Scripts/WebScraping/Grainmart/Script_1/Scrapper.ipynb#ch0000012?line=5'>6</a>\u001b[0m price_parent \u001b[39m=\u001b[39m item\u001b[39m.\u001b[39mfind(\u001b[39m\"\u001b[39m\u001b[39mspan\u001b[39m\u001b[39m\"\u001b[39m, \u001b[39m\"\u001b[39m\u001b[39ma-price\u001b[39m\u001b[39m\"\u001b[39m)\u001b[39m.\u001b[39mtext\n\u001b[1;32m----> <a href='vscode-notebook-cell:/c%3A/Users/kunwa/OneDrive/Documents/Kunwardeep/Python%20Scripts/WebScraping/Grainmart/Script_1/Scrapper.ipynb#ch0000012?line=6'>7</a>\u001b[0m price \u001b[39m=\u001b[39m price_parent\u001b[39m.\u001b[39;49mfind(\u001b[39m\"\u001b[39;49m\u001b[39mspan\u001b[39;49m\u001b[39m\"\u001b[39;49m, \u001b[39m\"\u001b[39;49m\u001b[39ma-offscreen\u001b[39;49m\u001b[39m\"\u001b[39;49m)\u001b[39m.\u001b[39mtext\n\u001b[0;32m      <a href='vscode-notebook-cell:/c%3A/Users/kunwa/OneDrive/Documents/Kunwardeep/Python%20Scripts/WebScraping/Grainmart/Script_1/Scrapper.ipynb#ch0000012?line=8'>9</a>\u001b[0m rating \u001b[39m=\u001b[39m item\u001b[39m.\u001b[39mi\u001b[39m.\u001b[39mtext\n\u001b[0;32m     <a href='vscode-notebook-cell:/c%3A/Users/kunwa/OneDrive/Documents/Kunwardeep/Python%20Scripts/WebScraping/Grainmart/Script_1/Scrapper.ipynb#ch0000012?line=10'>11</a>\u001b[0m reviews_count \u001b[39m=\u001b[39m item\u001b[39m.\u001b[39mfind(\u001b[39m\"\u001b[39m\u001b[39mspan\u001b[39m\u001b[39m\"\u001b[39m, {\u001b[39m\"\u001b[39m\u001b[39mclass\u001b[39m\u001b[39m\"\u001b[39m: \u001b[39m\"\u001b[39m\u001b[39ma-size-base\u001b[39m\u001b[39m\"\u001b[39m, \u001b[39m\"\u001b[39m\u001b[39mdir\u001b[39m\u001b[39m\"\u001b[39m: \u001b[39m\"\u001b[39m\u001b[39mauto\u001b[39m\u001b[39m\"\u001b[39m})\n",
      "\u001b[1;31mTypeError\u001b[0m: slice indices must be integers or None or have an __index__ method"
     ]
    }
   ],
   "source": [
    "item = results[0]\n",
    "atag = item.h2.a\n",
    "description = atag.text.strip()\n",
    "url = \"https://www.amazon.com/\" + atag.get(\"href\")\n",
    "\n",
    "try:\n",
    "    #price\n",
    "    price_parent = item.find(\"span\", \"a-price\")\n",
    "    price = price_parent.find(\"span\", \"a-offscreen\").text\n",
    "except AttributeError:\n",
    "    return\n",
    "\n",
    "#Rating and Rank\n",
    "\n",
    "try:\n",
    "    rating = item.i.text\n",
    "    reviews_count = item.find(\"span\", {\"class\": \"a-size-base\", \"dir\": \"auto\"}).text\n",
    "except AttributeError:\n",
    "    rating = \"\"\n",
    "    reviews_count = \"\"\n",
    "\n",
    "result\n",
    "\n"
   ]
  },
  {
   "cell_type": "markdown",
   "metadata": {},
   "source": [
    "Generalize the pattern"
   ]
  },
  {
   "cell_type": "code",
   "execution_count": null,
   "metadata": {},
   "outputs": [],
   "source": [
    "def extract_record(item):\n",
    "    \"\"\"\"Extract and return data from a single record\"\"\"\n",
    "\n",
    "    #description and url\n",
    "    atag = item.h2.a\n",
    "    description = atag.text.strip()\n",
    "    url = \"https://www.amazon.com/\" + atag.get(\"href\")\n",
    "    \n",
    "    try:\n",
    "        #price\n",
    "        price_parent = item.find(\"span\", \"a-price\")\n",
    "        price = price_parent.find(\"span\", \"a-offscreen\").text\n",
    "    except AttributeError:\n",
    "        return\n",
    "        \n",
    "    #review and rating\n",
    "    try:\n",
    "        rating = item.i.text\n",
    "        reviews_count = item.find(\"span\", {\"class\": \"a-size-base\", \"dir\": \"auto\"})\n",
    "    except AttributeError:\n",
    "        rating = \"\"\n",
    "        reviews_count = \"\"\n",
    "\n",
    "\n",
    "    result = (description, price, rating, reviews_count, url)\n",
    "    return result\n",
    "\n"
   ]
  },
  {
   "cell_type": "markdown",
   "metadata": {},
   "source": [
    "Creating an empty record list"
   ]
  },
  {
   "cell_type": "code",
   "execution_count": null,
   "metadata": {},
   "outputs": [],
   "source": [
    "records = []\n",
    "results = soup.find_all(\"div\", {\"data-component-type\": \"s-search-result\"})\n",
    "\n",
    "for item in results:\n",
    "    record = extract_record(item)\n",
    "    if record:\n",
    "        records.append(record)"
   ]
  },
  {
   "cell_type": "code",
   "execution_count": null,
   "metadata": {},
   "outputs": [],
   "source": [
    "for row in records:\n",
    "    print(row[1])"
   ]
  },
  {
   "cell_type": "markdown",
   "metadata": {},
   "source": [
    "Getting to the next page"
   ]
  },
  {
   "cell_type": "code",
   "execution_count": null,
   "metadata": {},
   "outputs": [],
   "source": [
    "def get_url(search_term):\n",
    "    template = \"https://www.amazon.com/s?k={}&crid=SZCW0NF454V2&sprefix=ultrawide+monit%2Caps%2C473&ref=nb_sb_noss_2\"\n",
    "    search_term = search_term.replace(\" \", \"+\")\n",
    "\n",
    "    #add term query to url\n",
    "    url = template.format(search_term)\n",
    "\n",
    "    #add page query placeholder\n",
    "    url += \"$page{}\"\n",
    "    \n",
    "    return url"
   ]
  },
  {
   "cell_type": "markdown",
   "metadata": {},
   "source": [
    "Putting it all together"
   ]
  },
  {
   "cell_type": "code",
   "execution_count": null,
   "metadata": {},
   "outputs": [],
   "source": [
    "import csv\n",
    "from bs4 import BeautifulSoup\n",
    "\n",
    "#Microsoft Edge\n",
    "\n",
    "from selenium import webdriver \n",
    "from msedge.selenium_tools import Edge, EdgeOptions\n",
    "\n",
    "def get_url(search_term):\n",
    "    template = \"https://www.amazon.com/s?k={}&crid=SZCW0NF454V2&sprefix=ultrawide+monit%2Caps%2C473&ref=nb_sb_noss_2\"\n",
    "    search_term = search_term.replace(\" \", \"+\")\n",
    "\n",
    "    #add term query to url\n",
    "    url = template.format(search_term)\n",
    "\n",
    "    #add page query placeholder\n",
    "    url += \"$page{}\"\n",
    "    \n",
    "    return url\n",
    "\n",
    "def extract_record(item):\n",
    "    \"\"\"\"Extract and return data from a single record\"\"\"\n",
    "\n",
    "    #description and url\n",
    "    atag = item.h2.a\n",
    "    description = atag.text.strip()\n",
    "    url = \"https://www.amazon.com/\" + atag.get(\"href\")\n",
    "    \n",
    "    try:\n",
    "        #price\n",
    "        price_parent = item.find(\"span\", \"a-price\")\n",
    "        price = price_parent.find(\"span\", \"a-offscreen\").text\n",
    "\n",
    "    except AttributeError:\n",
    "\n",
    "        return\n",
    "        \n",
    "    #review and rating\n",
    "\n",
    "    try:\n",
    "        rating = item.i.text\n",
    "        reviews_count = item.find(\"span\", {\"class\": \"a-size-base\", \"dir\": \"auto\"})\n",
    "\n",
    "    except AttributeError:\n",
    "\n",
    "        rating = \"\"\n",
    "        reviews_count = \"\"\n",
    "\n",
    "\n",
    "    result = (description, price, rating, reviews_count, url)\n",
    "    return result\n",
    "\n",
    "\n",
    "\n",
    "def main(search_term):\n",
    "\n",
    "    \"\"\"\"Run main program routine\"\"\"\n",
    "\n",
    "    #staring the web driver\n",
    "    edgeBrowser = webdriver.Edge(executable_path= r\"C:\\Users\\kunwa\\OneDrive\\Documents\\Kunwardeep\\Python Scripts\\WebScraping\\edgedriver_win64\\EdgeDriver.exe\")\n",
    "    \n",
    "    \n",
    "    url = get_url(search_term)\n",
    "\n",
    "    \n",
    "    records = []\n",
    "    for page in range(1,21):\n",
    "        edgeBrowser.get(url.format(page))\n",
    "        soup = BeautifulSoup(edgeBrowser.page_source, 'html.parser')\n",
    "        results = soup.find_all(\"div\", {\"data-component-type\": \"s-search-result\"})\n",
    "\n",
    "        for item in results:\n",
    "            record = extract_record(item)\n",
    "            if record:\n",
    "                records.append(record)\n",
    "    \n",
    "    edgeBrowser.close()\n",
    "\n",
    "    # Save data to csv file\n",
    "\n",
    "    with open('results.csv', 'w', newline='', encoding='utf-8') as f:\n",
    "        writer = csv.writer(f)\n",
    "        writer.writerow({\"Description\", \"Price\", \"Rating\", \"ReviewCount\", \"Url\"})\n",
    "        writer.writerows(records)\n",
    "\n",
    "\n",
    "    \n",
    "\n",
    "        \n"
   ]
  },
  {
   "cell_type": "code",
   "execution_count": null,
   "metadata": {},
   "outputs": [],
   "source": [
    "main(\"headphones\")\n"
   ]
  }
 ],
 "metadata": {
  "interpreter": {
   "hash": "8ebf325fab628b13763fbbbaed3ff9a0fcbacd40935b7f3f23003254d647216e"
  },
  "kernelspec": {
   "display_name": "Python 3.10.2 64-bit",
   "language": "python",
   "name": "python3"
  },
  "language_info": {
   "codemirror_mode": {
    "name": "ipython",
    "version": 3
   },
   "file_extension": ".py",
   "mimetype": "text/x-python",
   "name": "python",
   "nbconvert_exporter": "python",
   "pygments_lexer": "ipython3",
   "version": "3.10.2"
  },
  "orig_nbformat": 4
 },
 "nbformat": 4,
 "nbformat_minor": 2
}
